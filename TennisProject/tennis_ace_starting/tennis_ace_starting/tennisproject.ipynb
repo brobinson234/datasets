{
 "metadata": {
  "language_info": {
   "codemirror_mode": {
    "name": "ipython",
    "version": 3
   },
   "file_extension": ".py",
   "mimetype": "text/x-python",
   "name": "python",
   "nbconvert_exporter": "python",
   "pygments_lexer": "ipython3",
   "version": "3.9.1-final"
  },
  "orig_nbformat": 2,
  "kernelspec": {
   "name": "python3",
   "display_name": "Python 3.9.1 64-bit",
   "metadata": {
    "interpreter": {
     "hash": "f96c3a179d1851100ae5f232c30bf4bb6307bf2f33303fb83516114f1bcd2a36"
    }
   }
  }
 },
 "nbformat": 4,
 "nbformat_minor": 2,
 "cells": [
  {
   "cell_type": "code",
   "execution_count": 3,
   "metadata": {},
   "outputs": [],
   "source": [
    "import pandas as pd\n",
    "import matplotlib.pyplot as plt\n",
    "from sklearn.model_selection import train_test_split\n",
    "from sklearn.linear_model import LinearRegression"
   ]
  },
  {
   "cell_type": "code",
   "execution_count": 4,
   "metadata": {},
   "outputs": [
    {
     "output_type": "stream",
     "name": "stdout",
     "text": [
      "                 Player  Year  FirstServe  FirstServePointsWon  \\\n0           Pedro Sousa  2016        0.88                 0.50   \n1       Roman Safiullin  2017        0.84                 0.62   \n2           Pedro Sousa  2017        0.83                 0.60   \n3   Rogerio Dutra Silva  2010        0.83                 0.64   \n4  Daniel Gimeno-Traver  2017        0.81                 0.54   \n\n   FirstServeReturnPointsWon  SecondServePointsWon  \\\n0                       0.38                  0.50   \n1                       0.26                  0.33   \n2                       0.28                  0.53   \n3                       0.34                  0.59   \n4                       0.00                  0.33   \n\n   SecondServeReturnPointsWon  Aces  BreakPointsConverted  BreakPointsFaced  \\\n0                        0.39     0                  0.14                 7   \n1                        0.07     7                  0.00                 7   \n2                        0.44     2                  0.38                10   \n3                        0.33     2                  0.33                 5   \n4                        0.33     1                  0.00                 2   \n\n   ...  ReturnGamesWon  ReturnPointsWon  ServiceGamesPlayed  ServiceGamesWon  \\\n0  ...            0.11             0.38                   8             0.50   \n1  ...            0.00             0.20                   9             0.67   \n2  ...            0.16             0.34                  17             0.65   \n3  ...            0.14             0.34                  15             0.80   \n4  ...            0.00             0.20                   2             0.50   \n\n   TotalPointsWon  TotalServicePointsWon  Wins  Losses  Winnings  Ranking  \n0            0.43                   0.50     1       2     39820      119  \n1            0.41                   0.57     0       1     17334      381  \n2            0.45                   0.59     4       1    109827      119  \n3            0.49                   0.63     0       0      9761      125  \n4            0.35                   0.50     0       1     32879      272  \n\n[5 rows x 24 columns]\n"
     ]
    }
   ],
   "source": [
    "df = pd.read_csv('tennis_stats.csv')\n",
    "print(df.head())"
   ]
  },
  {
   "cell_type": "code",
   "execution_count": 5,
   "metadata": {},
   "outputs": [
    {
     "output_type": "stream",
     "name": "stdout",
     "text": [
      "Index(['Player', 'Year', 'FirstServe', 'FirstServePointsWon',\n       'FirstServeReturnPointsWon', 'SecondServePointsWon',\n       'SecondServeReturnPointsWon', 'Aces', 'BreakPointsConverted',\n       'BreakPointsFaced', 'BreakPointsOpportunities', 'BreakPointsSaved',\n       'DoubleFaults', 'ReturnGamesPlayed', 'ReturnGamesWon',\n       'ReturnPointsWon', 'ServiceGamesPlayed', 'ServiceGamesWon',\n       'TotalPointsWon', 'TotalServicePointsWon', 'Wins', 'Losses', 'Winnings',\n       'Ranking'],\n      dtype='object')\n"
     ]
    }
   ],
   "source": [
    "print(df.columns)"
   ]
  },
  {
   "cell_type": "code",
   "execution_count": 6,
   "metadata": {},
   "outputs": [
    {
     "output_type": "stream",
     "name": "stdout",
     "text": [
      "[[-1.58252170e+02  4.29926074e+01 -6.21722996e+02 -1.20455565e+02\n  -4.46410342e+02 -7.41580806e-02  3.09230558e+01  3.58955149e-01\n  -7.81011129e-01 -4.09179079e+01  2.70926282e-01  1.04209364e+00\n  -1.68409242e+02  6.17746080e+02 -1.07438370e+00  4.34914785e+02\n  -1.68414616e+02 -9.67401699e+02  1.28033887e+01 -8.27534389e-01\n  -5.69796221e-04]]\n"
     ]
    }
   ],
   "source": [
    "x = df[['FirstServe', 'FirstServePointsWon',\n",
    "       'FirstServeReturnPointsWon', 'SecondServePointsWon',\n",
    "       'SecondServeReturnPointsWon', 'Aces', 'BreakPointsConverted',\n",
    "       'BreakPointsFaced', 'BreakPointsOpportunities', 'BreakPointsSaved',\n",
    "       'DoubleFaults', 'ReturnGamesPlayed', 'ReturnGamesWon',\n",
    "       'ReturnPointsWon', 'ServiceGamesPlayed', 'ServiceGamesWon',\n",
    "       'TotalPointsWon', 'TotalServicePointsWon', 'Wins', 'Losses', 'Winnings']]\n",
    "y = df[['Ranking']]\n",
    "x_train, x_test, y_train, y_test = train_test_split(x , y, train_size=.8, test_size=.2, random_state=6)\n",
    "multreg = LinearRegression()\n",
    "multreg = multreg.fit(x_train,y_train)\n",
    "y_predict = multreg.predict(x_test)\n",
    "print(multreg.coef_)"
   ]
  },
  {
   "cell_type": "code",
   "execution_count": 7,
   "metadata": {},
   "outputs": [],
   "source": [
    "# So based on the R**2 values listed above, it looks like most of these variables have a significant effect on a player's rank. What's most surprising from an initial glance at the data is that the variable with the greatest effect is winnings, or the total monetary value received by the player for playing tennis. The fact that this number is negative means that the greater the winnings, the lower the rank; a correlation which makes sense given that the players who earn the most are likely to be the best. It also helps explain why winnings has such a greater effect than the other variables because the higher ranked players are playing in higher stakes matches against players of comparable rank. "
   ]
  },
  {
   "cell_type": "code",
   "execution_count": 28,
   "metadata": {},
   "outputs": [
    {
     "output_type": "stream",
     "name": "stdout",
     "text": [
      "[[ 3.96261522e+04  1.00232351e+05 -3.94951089e+04  1.01145977e+05\n   1.05047645e+04 -9.98320559e+01  7.34258497e+03 -7.39456088e+02\n   2.54245708e+02  2.69108942e+04  7.16991048e+02 -7.01615372e+02\n   9.65740775e+03  2.12481349e+04  1.18208052e+03  3.92275907e+04\n  -1.92441983e+05 -1.91551878e+05  1.11849965e+04  4.99441841e+03\n  -7.10037361e+01]]\n"
     ]
    }
   ],
   "source": [
    "# I want to try to predict winnings based on two variables and see how accurate the predictsions are. First I want to see which variables have the greatest effect on winnings. The greatest impact on winnings comes from TotalServicePointsWon which is the % of points in a game won where the player won. In other words, what precentaage of their points came from their serve. Only knowing a little about modern tennis, it seems that dominating with your serve is imperative to success. This appears to be corroborated by the fact that the second most significant variable is ReturnGamesWon which is the number of games where the player won when receiving the serve (i.e., when the broke their opponent's serve)\n",
    "\n",
    "x_1 = df[['FirstServe', 'FirstServePointsWon',\n",
    "       'FirstServeReturnPointsWon', 'SecondServePointsWon',\n",
    "       'SecondServeReturnPointsWon', 'Aces', 'BreakPointsConverted',\n",
    "       'BreakPointsFaced', 'BreakPointsOpportunities', 'BreakPointsSaved',\n",
    "       'DoubleFaults', 'ReturnGamesPlayed', 'ReturnGamesWon',\n",
    "       'ReturnPointsWon', 'ServiceGamesPlayed', 'ServiceGamesWon',\n",
    "       'TotalPointsWon', 'TotalServicePointsWon', 'Wins', 'Losses',\n",
    "       'Ranking']]\n",
    "y_1 = df[['Winnings']]\n",
    "x_1_train, x_1_test, y_1_train, y_1_test = train_test_split(x_1,y_1,train_size=.8,test_size=.2,random_state=6)\n",
    "multreg_1 = LinearRegression()\n",
    "multreg_1 = multreg_1.fit(x_1_train,y_1_train)\n",
    "print(multreg_1.coef_)"
   ]
  },
  {
   "cell_type": "code",
   "execution_count": 29,
   "metadata": {},
   "outputs": [],
   "source": [
    "def coef_func(columns):\n",
    "    for i in columns:\n",
    "        x_func = df[[i]]\n",
    "        y_func = df[['Winnings']]\n",
    "        x_func_train, x_func_test, y_func_train, y_func_test = train_test_split(x_func,y_func,train_size=.8,test_size=.2,random_state=6)\n",
    "        reg_func = LinearRegression()\n",
    "        reg_func = reg_func.fit(x_func_train,y_func_train)\n",
    "        print(\"The coef of \" + i + \" is \" + str(reg_func.coef_))\n"
   ]
  },
  {
   "cell_type": "code",
   "execution_count": 52,
   "metadata": {},
   "outputs": [
    {
     "output_type": "stream",
     "name": "stdout",
     "text": [
      "The coef of FirstServe is [[300124.51480496]]\nThe coef of FirstServePointsWon is [[1240060.00863982]]\nThe coef of FirstServeReturnPointsWon is [[1023646.00731376]]\nThe coef of SecondServePointsWon is [[1066841.85228712]]\nThe coef of SecondServeReturnPointsWon is [[765299.8071049]]\nThe coef of Aces is [[1499.56663682]]\nThe coef of BreakPointsConverted is [[114416.78602206]]\nThe coef of BreakPointsFaced is [[1847.64746875]]\nThe coef of BreakPointsOpportunities is [[1845.33857889]]\nThe coef of BreakPointsSaved is [[532035.76554414]]\nThe coef of DoubleFaults is [[3824.83605371]]\nThe coef of ReturnGamesWon is [[851966.1123691]]\nThe coef of ReturnPointsWon is [[1423979.78060302]]\nThe coef of ServiceGamesWon is [[809670.6844831]]\nThe coef of TotalPointsWon is [[3269103.24001372]]\nThe coef of TotalServicePointsWon is [[1764069.57792217]]\n"
     ]
    }
   ],
   "source": [
    "coef_func(['FirstServe', 'FirstServePointsWon',\n",
    "       'FirstServeReturnPointsWon', 'SecondServePointsWon',\n",
    "       'SecondServeReturnPointsWon', 'Aces', 'BreakPointsConverted',\n",
    "       'BreakPointsFaced', 'BreakPointsOpportunities', 'BreakPointsSaved',\n",
    "       'DoubleFaults', 'ReturnGamesWon',\n",
    "       'ReturnPointsWon', 'ServiceGamesWon',\n",
    "       'TotalPointsWon', 'TotalServicePointsWon'])"
   ]
  },
  {
   "cell_type": "code",
   "execution_count": 48,
   "metadata": {},
   "outputs": [],
   "source": [
    "def r_squared_val(columns):\n",
    "    for i in columns:\n",
    "        x_func = df[[i]]\n",
    "        y_func = df[['Winnings']]\n",
    "        x_func_train, x_func_test, y_func_train, y_func_test = train_test_split(x_func,y_func,train_size=.8,test_size=.2,random_state=6)\n",
    "        reg_func = LinearRegression()\n",
    "        reg_func = reg_func.fit(x_func_train,y_func_train)\n",
    "        y_func_predict = reg_func.predict(x_func_test)\n",
    "        print(\"The R**2 value of \" + i + \" is \" + str(reg_func.score(x_func_test,y_func_test)))"
   ]
  },
  {
   "cell_type": "code",
   "execution_count": 51,
   "metadata": {},
   "outputs": [
    {
     "output_type": "stream",
     "name": "stdout",
     "text": [
      "The R**2 value of FirstServe is -0.008869749190366205\n",
      "The R**2 value of FirstServePointsWon is 0.14961337962986254\n",
      "The R**2 value of FirstServeReturnPointsWon is 0.06258032988574369\n",
      "The R**2 value of SecondServePointsWon is 0.06272054166581154\n",
      "The R**2 value of SecondServeReturnPointsWon is 0.01747732136243596\n",
      "The R**2 value of Aces is 0.5816068520493393\n",
      "The R**2 value of BreakPointsConverted is -0.002900477039500249\n",
      "The R**2 value of BreakPointsFaced is 0.7668989125296909\n",
      "The R**2 value of BreakPointsOpportunities is 0.8081205523550062\n",
      "The R**2 value of BreakPointsSaved is 0.06864886879694732\n",
      "The R**2 value of DoubleFaults is 0.691094250942484\n",
      "The R**2 value of ReturnGamesWon is 0.0739380210850199\n",
      "The R**2 value of ReturnPointsWon is 0.05776914333371064\n",
      "The R**2 value of ServiceGamesWon is 0.15667104197367154\n",
      "The R**2 value of TotalPointsWon is 0.16681809408268922\n",
      "The R**2 value of TotalServicePointsWon is 0.1637468240447537\n"
     ]
    }
   ],
   "source": [
    "r_squared_val(['FirstServe', 'FirstServePointsWon',\n",
    "       'FirstServeReturnPointsWon', 'SecondServePointsWon',\n",
    "       'SecondServeReturnPointsWon', 'Aces', 'BreakPointsConverted',\n",
    "       'BreakPointsFaced', 'BreakPointsOpportunities', 'BreakPointsSaved',\n",
    "       'DoubleFaults', 'ReturnGamesWon',\n",
    "       'ReturnPointsWon', 'ServiceGamesWon',\n",
    "       'TotalPointsWon', 'TotalServicePointsWon'])"
   ]
  },
  {
   "cell_type": "code",
   "execution_count": 33,
   "metadata": {},
   "outputs": [
    {
     "output_type": "stream",
     "name": "stdout",
     "text": [
      "[[1690720.93762166 1288357.14888733]]\n0.23360062748301424\n"
     ]
    }
   ],
   "source": [
    "# I want to visualize these three varialbes (TotalServicePointsWon and ReturnGamesWon plotted against Winnings).\n",
    "x_2 = df[['TotalServicePointsWon','ReturnPointsWon']]\n",
    "y_2 = df[['Winnings']]\n",
    "x_2_train,x_2_test,y_2_train,y_2_test = train_test_split(x_2,y_2,train_size=.8,test_size=.2,random_state=6)\n",
    "multreg_2 = LinearRegression()\n",
    "multreg_2 = multreg_2.fit(x_2_train,y_2_train)\n",
    "print(multreg_2.coef_)\n",
    "y_2_predict = multreg_2.predict(x_2_test)\n",
    "print(multreg_2.score(x_2_test,y_2_test))"
   ]
  },
  {
   "cell_type": "code",
   "execution_count": 34,
   "metadata": {},
   "outputs": [
    {
     "output_type": "error",
     "ename": "ValueError",
     "evalue": "x and y must be the same size",
     "traceback": [
      "\u001b[1;31m---------------------------------------------------------------------------\u001b[0m",
      "\u001b[1;31mValueError\u001b[0m                                Traceback (most recent call last)",
      "\u001b[1;32m<ipython-input-34-e9321cb5392d>\u001b[0m in \u001b[0;36m<module>\u001b[1;34m\u001b[0m\n\u001b[0;32m      1\u001b[0m \u001b[0mplt\u001b[0m\u001b[1;33m.\u001b[0m\u001b[0msubplot\u001b[0m\u001b[1;33m(\u001b[0m\u001b[1;33m)\u001b[0m\u001b[1;33m\u001b[0m\u001b[1;33m\u001b[0m\u001b[0m\n\u001b[1;32m----> 2\u001b[1;33m \u001b[0mplt\u001b[0m\u001b[1;33m.\u001b[0m\u001b[0mscatter\u001b[0m\u001b[1;33m(\u001b[0m\u001b[0mx_2_test\u001b[0m\u001b[1;33m,\u001b[0m\u001b[0my_2_test\u001b[0m\u001b[1;33m)\u001b[0m\u001b[1;33m\u001b[0m\u001b[1;33m\u001b[0m\u001b[0m\n\u001b[0m\u001b[0;32m      3\u001b[0m \u001b[0mplt\u001b[0m\u001b[1;33m.\u001b[0m\u001b[0mplot\u001b[0m\u001b[1;33m(\u001b[0m\u001b[0mx_2_test\u001b[0m\u001b[1;33m,\u001b[0m\u001b[0my_2_predict\u001b[0m\u001b[1;33m)\u001b[0m\u001b[1;33m\u001b[0m\u001b[1;33m\u001b[0m\u001b[0m\n\u001b[0;32m      4\u001b[0m \u001b[0mplt\u001b[0m\u001b[1;33m.\u001b[0m\u001b[0mshow\u001b[0m\u001b[1;33m(\u001b[0m\u001b[1;33m)\u001b[0m\u001b[1;33m\u001b[0m\u001b[1;33m\u001b[0m\u001b[0m\n",
      "\u001b[1;32m~\\AppData\\Local\\Programs\\Python\\Python39\\lib\\site-packages\\matplotlib\\pyplot.py\u001b[0m in \u001b[0;36mscatter\u001b[1;34m(x, y, s, c, marker, cmap, norm, vmin, vmax, alpha, linewidths, verts, edgecolors, plotnonfinite, data, **kwargs)\u001b[0m\n\u001b[0;32m   2888\u001b[0m         \u001b[0mverts\u001b[0m\u001b[1;33m=\u001b[0m\u001b[0mcbook\u001b[0m\u001b[1;33m.\u001b[0m\u001b[0mdeprecation\u001b[0m\u001b[1;33m.\u001b[0m\u001b[0m_deprecated_parameter\u001b[0m\u001b[1;33m,\u001b[0m\u001b[1;33m\u001b[0m\u001b[1;33m\u001b[0m\u001b[0m\n\u001b[0;32m   2889\u001b[0m         edgecolors=None, *, plotnonfinite=False, data=None, **kwargs):\n\u001b[1;32m-> 2890\u001b[1;33m     __ret = gca().scatter(\n\u001b[0m\u001b[0;32m   2891\u001b[0m         \u001b[0mx\u001b[0m\u001b[1;33m,\u001b[0m \u001b[0my\u001b[0m\u001b[1;33m,\u001b[0m \u001b[0ms\u001b[0m\u001b[1;33m=\u001b[0m\u001b[0ms\u001b[0m\u001b[1;33m,\u001b[0m \u001b[0mc\u001b[0m\u001b[1;33m=\u001b[0m\u001b[0mc\u001b[0m\u001b[1;33m,\u001b[0m \u001b[0mmarker\u001b[0m\u001b[1;33m=\u001b[0m\u001b[0mmarker\u001b[0m\u001b[1;33m,\u001b[0m \u001b[0mcmap\u001b[0m\u001b[1;33m=\u001b[0m\u001b[0mcmap\u001b[0m\u001b[1;33m,\u001b[0m \u001b[0mnorm\u001b[0m\u001b[1;33m=\u001b[0m\u001b[0mnorm\u001b[0m\u001b[1;33m,\u001b[0m\u001b[1;33m\u001b[0m\u001b[1;33m\u001b[0m\u001b[0m\n\u001b[0;32m   2892\u001b[0m         \u001b[0mvmin\u001b[0m\u001b[1;33m=\u001b[0m\u001b[0mvmin\u001b[0m\u001b[1;33m,\u001b[0m \u001b[0mvmax\u001b[0m\u001b[1;33m=\u001b[0m\u001b[0mvmax\u001b[0m\u001b[1;33m,\u001b[0m \u001b[0malpha\u001b[0m\u001b[1;33m=\u001b[0m\u001b[0malpha\u001b[0m\u001b[1;33m,\u001b[0m \u001b[0mlinewidths\u001b[0m\u001b[1;33m=\u001b[0m\u001b[0mlinewidths\u001b[0m\u001b[1;33m,\u001b[0m\u001b[1;33m\u001b[0m\u001b[1;33m\u001b[0m\u001b[0m\n",
      "\u001b[1;32m~\\AppData\\Local\\Programs\\Python\\Python39\\lib\\site-packages\\matplotlib\\__init__.py\u001b[0m in \u001b[0;36minner\u001b[1;34m(ax, data, *args, **kwargs)\u001b[0m\n\u001b[0;32m   1445\u001b[0m     \u001b[1;32mdef\u001b[0m \u001b[0minner\u001b[0m\u001b[1;33m(\u001b[0m\u001b[0max\u001b[0m\u001b[1;33m,\u001b[0m \u001b[1;33m*\u001b[0m\u001b[0margs\u001b[0m\u001b[1;33m,\u001b[0m \u001b[0mdata\u001b[0m\u001b[1;33m=\u001b[0m\u001b[1;32mNone\u001b[0m\u001b[1;33m,\u001b[0m \u001b[1;33m**\u001b[0m\u001b[0mkwargs\u001b[0m\u001b[1;33m)\u001b[0m\u001b[1;33m:\u001b[0m\u001b[1;33m\u001b[0m\u001b[1;33m\u001b[0m\u001b[0m\n\u001b[0;32m   1446\u001b[0m         \u001b[1;32mif\u001b[0m \u001b[0mdata\u001b[0m \u001b[1;32mis\u001b[0m \u001b[1;32mNone\u001b[0m\u001b[1;33m:\u001b[0m\u001b[1;33m\u001b[0m\u001b[1;33m\u001b[0m\u001b[0m\n\u001b[1;32m-> 1447\u001b[1;33m             \u001b[1;32mreturn\u001b[0m \u001b[0mfunc\u001b[0m\u001b[1;33m(\u001b[0m\u001b[0max\u001b[0m\u001b[1;33m,\u001b[0m \u001b[1;33m*\u001b[0m\u001b[0mmap\u001b[0m\u001b[1;33m(\u001b[0m\u001b[0msanitize_sequence\u001b[0m\u001b[1;33m,\u001b[0m \u001b[0margs\u001b[0m\u001b[1;33m)\u001b[0m\u001b[1;33m,\u001b[0m \u001b[1;33m**\u001b[0m\u001b[0mkwargs\u001b[0m\u001b[1;33m)\u001b[0m\u001b[1;33m\u001b[0m\u001b[1;33m\u001b[0m\u001b[0m\n\u001b[0m\u001b[0;32m   1448\u001b[0m \u001b[1;33m\u001b[0m\u001b[0m\n\u001b[0;32m   1449\u001b[0m         \u001b[0mbound\u001b[0m \u001b[1;33m=\u001b[0m \u001b[0mnew_sig\u001b[0m\u001b[1;33m.\u001b[0m\u001b[0mbind\u001b[0m\u001b[1;33m(\u001b[0m\u001b[0max\u001b[0m\u001b[1;33m,\u001b[0m \u001b[1;33m*\u001b[0m\u001b[0margs\u001b[0m\u001b[1;33m,\u001b[0m \u001b[1;33m**\u001b[0m\u001b[0mkwargs\u001b[0m\u001b[1;33m)\u001b[0m\u001b[1;33m\u001b[0m\u001b[1;33m\u001b[0m\u001b[0m\n",
      "\u001b[1;32m~\\AppData\\Local\\Programs\\Python\\Python39\\lib\\site-packages\\matplotlib\\cbook\\deprecation.py\u001b[0m in \u001b[0;36mwrapper\u001b[1;34m(*inner_args, **inner_kwargs)\u001b[0m\n\u001b[0;32m    409\u001b[0m                          \u001b[1;32melse\u001b[0m \u001b[0mdeprecation_addendum\u001b[0m\u001b[1;33m,\u001b[0m\u001b[1;33m\u001b[0m\u001b[1;33m\u001b[0m\u001b[0m\n\u001b[0;32m    410\u001b[0m                 **kwargs)\n\u001b[1;32m--> 411\u001b[1;33m         \u001b[1;32mreturn\u001b[0m \u001b[0mfunc\u001b[0m\u001b[1;33m(\u001b[0m\u001b[1;33m*\u001b[0m\u001b[0minner_args\u001b[0m\u001b[1;33m,\u001b[0m \u001b[1;33m**\u001b[0m\u001b[0minner_kwargs\u001b[0m\u001b[1;33m)\u001b[0m\u001b[1;33m\u001b[0m\u001b[1;33m\u001b[0m\u001b[0m\n\u001b[0m\u001b[0;32m    412\u001b[0m \u001b[1;33m\u001b[0m\u001b[0m\n\u001b[0;32m    413\u001b[0m     \u001b[1;32mreturn\u001b[0m \u001b[0mwrapper\u001b[0m\u001b[1;33m\u001b[0m\u001b[1;33m\u001b[0m\u001b[0m\n",
      "\u001b[1;32m~\\AppData\\Local\\Programs\\Python\\Python39\\lib\\site-packages\\matplotlib\\axes\\_axes.py\u001b[0m in \u001b[0;36mscatter\u001b[1;34m(self, x, y, s, c, marker, cmap, norm, vmin, vmax, alpha, linewidths, verts, edgecolors, plotnonfinite, **kwargs)\u001b[0m\n\u001b[0;32m   4439\u001b[0m         \u001b[0my\u001b[0m \u001b[1;33m=\u001b[0m \u001b[0mnp\u001b[0m\u001b[1;33m.\u001b[0m\u001b[0mma\u001b[0m\u001b[1;33m.\u001b[0m\u001b[0mravel\u001b[0m\u001b[1;33m(\u001b[0m\u001b[0my\u001b[0m\u001b[1;33m)\u001b[0m\u001b[1;33m\u001b[0m\u001b[1;33m\u001b[0m\u001b[0m\n\u001b[0;32m   4440\u001b[0m         \u001b[1;32mif\u001b[0m \u001b[0mx\u001b[0m\u001b[1;33m.\u001b[0m\u001b[0msize\u001b[0m \u001b[1;33m!=\u001b[0m \u001b[0my\u001b[0m\u001b[1;33m.\u001b[0m\u001b[0msize\u001b[0m\u001b[1;33m:\u001b[0m\u001b[1;33m\u001b[0m\u001b[1;33m\u001b[0m\u001b[0m\n\u001b[1;32m-> 4441\u001b[1;33m             \u001b[1;32mraise\u001b[0m \u001b[0mValueError\u001b[0m\u001b[1;33m(\u001b[0m\u001b[1;34m\"x and y must be the same size\"\u001b[0m\u001b[1;33m)\u001b[0m\u001b[1;33m\u001b[0m\u001b[1;33m\u001b[0m\u001b[0m\n\u001b[0m\u001b[0;32m   4442\u001b[0m \u001b[1;33m\u001b[0m\u001b[0m\n\u001b[0;32m   4443\u001b[0m         \u001b[1;32mif\u001b[0m \u001b[0ms\u001b[0m \u001b[1;32mis\u001b[0m \u001b[1;32mNone\u001b[0m\u001b[1;33m:\u001b[0m\u001b[1;33m\u001b[0m\u001b[1;33m\u001b[0m\u001b[0m\n",
      "\u001b[1;31mValueError\u001b[0m: x and y must be the same size"
     ]
    }
   ],
   "source": [
    "plt.subplot()\n",
    "plt.scatter(x_2_test,y_2_test)\n",
    "plt.plot(x_2_test,y_2_predict)\n",
    "plt.show()"
   ]
  },
  {
   "cell_type": "code",
   "execution_count": null,
   "metadata": {},
   "outputs": [],
   "source": []
  }
 ]
}