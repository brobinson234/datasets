{
 "metadata": {
  "language_info": {
   "codemirror_mode": {
    "name": "ipython",
    "version": 3
   },
   "file_extension": ".py",
   "mimetype": "text/x-python",
   "name": "python",
   "nbconvert_exporter": "python",
   "pygments_lexer": "ipython3",
   "version": 3
  },
  "orig_nbformat": 2
 },
 "nbformat": 4,
 "nbformat_minor": 2,
 "cells": [
  {
   "cell_type": "code",
   "execution_count": null,
   "metadata": {},
   "outputs": [],
   "source": [
    "import nltk\n",
    "# Levenshtein distance:\n",
    "from nltk.metrics import edit_distance\n",
    "\n",
    "# an arbitrary plagiarism classifier:\n",
    "def is_plagiarized(text1, text2):\n",
    "  n = 7\n",
    "  if edit_distance(text1.lower(), text2.lower()) > ((len(text1) + len(text2)) / n):\n",
    "    return False\n",
    "  return True\n",
    "\n",
    "doc1 = \"is this plagiarized\"\n",
    "doc2 = \"maybe it's plagiarized\"\n",
    "\n",
    "print(is_plagiarized(doc1, doc2))"
   ]
  }
 ]
}