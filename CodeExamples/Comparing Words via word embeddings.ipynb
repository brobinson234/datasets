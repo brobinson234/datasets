{
 "metadata": {
  "language_info": {
   "codemirror_mode": {
    "name": "ipython",
    "version": 3
   },
   "file_extension": ".py",
   "mimetype": "text/x-python",
   "name": "python",
   "nbconvert_exporter": "python",
   "pygments_lexer": "ipython3",
   "version": 3
  },
  "orig_nbformat": 2
 },
 "nbformat": 4,
 "nbformat_minor": 2,
 "cells": [
  {
   "cell_type": "code",
   "execution_count": null,
   "metadata": {},
   "outputs": [],
   "source": [
    "#This requires a list of words and a list of their corresponding vectors\n",
    "\n",
    "import spacy\n",
    "from scipy.spatial.distance import cosine\n",
    "from processing import most_common_words, vector_list\n",
    "\n",
    "# print word and vector representation at index 347\n",
    "#print(most_common_words[347])\n",
    "#print(vector_list[347])\n",
    "\n",
    "# define find_closest_words\n",
    "def find_closest_words(word_list, vector_list, word_to_check):\n",
    "    return sorted(word_list,\n",
    "                  key=lambda x: cosine(vector_list[word_list.index(word_to_check)], vector_list[word_list.index(x)]))[:10]\n",
    "\n",
    "# find closest words to food\n",
    "close_to_food = find_closest_words(most_common_words, vector_list, 'food')\n",
    "print(close_to_food)\n",
    "\n",
    "# find closest words to summer\n",
    "close_to_summer = find_closest_words(most_common_words, vector_list, 'summer')\n",
    "print(close_to_summer)\n"
   ]
  }
 ]
}