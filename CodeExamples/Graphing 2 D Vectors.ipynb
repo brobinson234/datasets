{
 "metadata": {
  "language_info": {
   "codemirror_mode": {
    "name": "ipython",
    "version": 3
   },
   "file_extension": ".py",
   "mimetype": "text/x-python",
   "name": "python",
   "nbconvert_exporter": "python",
   "pygments_lexer": "ipython3",
   "version": 3
  },
  "orig_nbformat": 2
 },
 "nbformat": 4,
 "nbformat_minor": 2,
 "cells": [
  {
   "cell_type": "code",
   "execution_count": null,
   "metadata": {},
   "outputs": [],
   "source": [
    "import numpy as np\n",
    "import matplotlib.pyplot as plt\n",
    "import codecademylib3_seaborn\n",
    "\n",
    "# define score vectors\n",
    "scores_xavier = np.array([88, 92])\n",
    "scores_niko = np.array([94, 87])\n",
    "scores_alena = np.array([90, 48])\n",
    "\n",
    "\n",
    "# plot vectors\n",
    "try:\n",
    "  plt.arrow(0, 0, scores_xavier[0], scores_xavier[1], width=1, color='blue')\n",
    "except:\n",
    "  pass\n",
    "try:\n",
    "  plt.arrow(0, 0, scores_niko[0], scores_niko[1], width=1, color='orange')\n",
    "except:\n",
    "  pass\n",
    "try:\n",
    "  plt.arrow(0, 0, scores_alena[0], scores_alena[1], width=1, color='purple')\n",
    "except:\n",
    "  pass\n",
    "plt.axis([0, 100, 0, 100])\n",
    "plt.show()"
   ]
  }
 ]
}