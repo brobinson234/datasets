{
 "cells": [
  {
   "cell_type": "code",
   "execution_count": 1,
   "metadata": {},
   "outputs": [],
   "source": [
    "import pandas as pd \n",
    "from matplotlib import pyplot as plt \n",
    "import seaborn as sns \n"
   ]
  },
  {
   "cell_type": "code",
   "execution_count": 14,
   "metadata": {},
   "outputs": [
    {
     "output_type": "stream",
     "name": "stdout",
     "text": [
      "  Country  Year  Life expectancy at birth (years)           GDP\n0   Chile  2000                              77.3  7.786093e+10\n1   Chile  2001                              77.3  7.097992e+10\n2   Chile  2002                              77.8  6.973681e+10\n3   Chile  2003                              77.9  7.564346e+10\n4   Chile  2004                              78.0  9.921039e+10\n"
     ]
    }
   ],
   "source": [
    "data = pd. read_csv('all_data.csv')\n",
    "print(data.head())\n",
    "\n"
   ]
  },
  {
   "cell_type": "code",
   "execution_count": 16,
   "metadata": {},
   "outputs": [
    {
     "output_type": "stream",
     "name": "stdout",
     "text": [
      "                          Year  Life expectancy at birth (years)  GDP\nCountry                                                              \nChile                       16                                16   16\nChina                       16                                16   16\nGermany                     16                                16   16\nMexico                      16                                16   16\nUnited States of America    16                                16   16\nZimbabwe                    16                                16   16\n      Country  Life expectancy at birth (years)  GDP\nYear                                                \n2000        6                                 6    6\n2001        6                                 6    6\n2002        6                                 6    6\n2003        6                                 6    6\n2004        6                                 6    6\n2005        6                                 6    6\n2006        6                                 6    6\n2007        6                                 6    6\n2008        6                                 6    6\n2009        6                                 6    6\n2010        6                                 6    6\n2011        6                                 6    6\n2012        6                                 6    6\n2013        6                                 6    6\n2014        6                                 6    6\n2015        6                                 6    6\n"
     ]
    }
   ],
   "source": [
    "data_by_country = data.groupby('Country').count()\n",
    "print(data_by_country)\n",
    "data_by_year = data.groupby('Year').count()\n",
    "print(data_by_year)"
   ]
  }
 ],
 "metadata": {
  "kernelspec": {
   "display_name": "Python 3",
   "language": "python",
   "name": "python3"
  },
  "language_info": {
   "codemirror_mode": {
    "name": "ipython",
    "version": 3
   },
   "file_extension": ".py",
   "mimetype": "text/x-python",
   "name": "python",
   "nbconvert_exporter": "python",
   "pygments_lexer": "ipython3",
   "version": "3.8.3-final"
  }
 },
 "nbformat": 4,
 "nbformat_minor": 4
}